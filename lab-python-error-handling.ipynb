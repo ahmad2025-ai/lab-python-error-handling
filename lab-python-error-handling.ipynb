{
 "cells": [
  {
   "cell_type": "markdown",
   "id": "25d7736c-ba17-4aff-b6bb-66eba20fbf4e",
   "metadata": {},
   "source": [
    "# Lab | Error Handling"
   ]
  },
  {
   "cell_type": "markdown",
   "id": "bc99b386-7508-47a0-bcdb-d969deaf6c8b",
   "metadata": {},
   "source": [
    "## Exercise: Error Handling for Managing Customer Orders\n",
    "\n",
    "The implementation of your code for managing customer orders assumes that the user will always enter a valid input. \n",
    "\n",
    "For example, we could modify the `initialize_inventory` function to include error handling.\n",
    "   - If the user enters an invalid quantity (e.g., a negative value or a non-numeric value), display an error message and ask them to re-enter the quantity for that product.\n",
    "   - Use a try-except block to handle the error and continue prompting the user until a valid quantity is entered.\n",
    "\n",
    "```python\n",
    "# Step 1: Define the function for initializing the inventory with error handling\n",
    "def initialize_inventory(products):\n",
    "    inventory = {}\n",
    "    for product in products:\n",
    "        valid_quantity = False\n",
    "        while not valid_quantity:\n",
    "            try:\n",
    "                quantity = int(input(f\"Enter the quantity of {product}s available: \"))\n",
    "                if quantity < 0:\n",
    "                    raise ValueError(\"Invalid quantity! Please enter a non-negative value.\")\n",
    "                valid_quantity = True\n",
    "            except ValueError as error:\n",
    "                print(f\"Error: {error}\")\n",
    "        inventory[product] = quantity\n",
    "    return inventory\n",
    "\n",
    "# Or, in another way:\n",
    "\n",
    "def initialize_inventory(products):\n",
    "    inventory = {}\n",
    "    for product in products:\n",
    "        valid_input = False\n",
    "        while not valid_input:\n",
    "            try:\n",
    "                quantity = int(input(f\"Enter the quantity of {product}s available: \"))\n",
    "                if quantity >= 0:\n",
    "                    inventory[product] = quantity\n",
    "                    valid_input = True\n",
    "                else:\n",
    "                    print(\"Quantity cannot be negative. Please enter a valid quantity.\")\n",
    "            except ValueError:\n",
    "                print(\"Invalid input. Please enter a valid quantity.\")\n",
    "    return inventory\n",
    "```\n",
    "\n",
    "Let's enhance your code by implementing error handling to handle invalid inputs.\n",
    "\n",
    "Follow the steps below to complete the exercise:\n",
    "\n",
    "2. Modify the `calculate_total_price` function to include error handling.\n",
    "   - If the user enters an invalid price (e.g., a negative value or a non-numeric value), display an error message and ask them to re-enter the price for that product.\n",
    "   - Use a try-except block to handle the error and continue prompting the user until a valid price is entered.\n",
    "\n",
    "3. Modify the `get_customer_orders` function to include error handling.\n",
    "   - If the user enters an invalid number of orders (e.g., a negative value or a non-numeric value), display an error message and ask them to re-enter the number of orders.\n",
    "   - If the user enters an invalid product name (e.g., a product name that is not in the inventory), or that doesn't have stock available, display an error message and ask them to re-enter the product name. *Hint: you will need to pass inventory as a parameter*\n",
    "   - Use a try-except block to handle the error and continue prompting the user until a valid product name is entered.\n",
    "\n",
    "4. Test your code by running the program and deliberately entering invalid quantities and product names. Make sure the error handling mechanism works as expected.\n"
   ]
  },
  {
   "cell_type": "code",
   "execution_count": 1,
   "id": "899a7a11-e4d7-46da-9636-dcf9494b3200",
   "metadata": {},
   "outputs": [],
   "source": [
    "def initialize_inventory(products):\n",
    "    inventory = {}\n",
    "    for product in products:\n",
    "        valid_input = False\n",
    "        while not valid_input:\n",
    "            try:\n",
    "                quantity = int(input(f\"Enter the quantity of {product}s available: \"))\n",
    "                if quantity >= 0:\n",
    "                    inventory[product] = quantity\n",
    "                    valid_input = True\n",
    "                else:\n",
    "                    print(\"Quantity cannot be negative. Please enter a valid quantity.\")\n",
    "            except ValueError:\n",
    "                print(\"Invalid input. Please enter a valid quantity.\")\n",
    "    return inventory\n"
   ]
  },
  {
   "cell_type": "code",
   "execution_count": 3,
   "id": "8bcd8fb6-76da-4cd9-b111-c8111db316c9",
   "metadata": {},
   "outputs": [],
   "source": [
    "def calculate_total_price():\n",
    "    valid_price = False\n",
    "    while not valid_price:\n",
    "        try:\n",
    "            price = float(input(\"Enter the price of the product: \"))\n",
    "            if price < 0:\n",
    "                print(\"Price cannot be negative. Please enter a valid price.\")\n",
    "            else:\n",
    "                valid_price = True\n",
    "                return price\n",
    "        except ValueError:\n",
    "            print(\"Invalid input. Please enter a numeric value for the price.\")\n"
   ]
  },
  {
   "cell_type": "code",
   "execution_count": 5,
   "id": "e8d10890-c5af-44d2-b242-5b1b862d16e5",
   "metadata": {},
   "outputs": [],
   "source": [
    "def get_customer_orders(inventory):\n",
    "    customer_orders = {}\n",
    "    \n",
    "    while True:\n",
    "        product_name = input(\"Enter the product name to order (or type 'done' to finish): \").strip().lower()\n",
    "        \n",
    "        if product_name == \"done\":\n",
    "            break  # Exit loop when user finishes ordering\n",
    "        \n",
    "        if product_name not in inventory:\n",
    "            print(\"Error: Product not found in inventory. Please enter a valid product name.\")\n",
    "            continue\n",
    "        \n",
    "        if inventory[product_name] == 0:\n",
    "            print(f\"Sorry, {product_name} is out of stock!\")\n",
    "            continue\n",
    "        \n",
    "        valid_quantity = False\n",
    "        while not valid_quantity:\n",
    "            try:\n",
    "                quantity = int(input(f\"Enter quantity for {product_name}: \"))\n",
    "                if quantity < 0:\n",
    "                    print(\"Quantity cannot be negative. Please enter a valid quantity.\")\n",
    "                elif quantity > inventory[product_name]:\n",
    "                    print(f\"Not enough stock! Only {inventory[product_name]} available.\")\n",
    "                else:\n",
    "                    valid_quantity = True\n",
    "                    customer_orders[product_name] = quantity\n",
    "            except ValueError:\n",
    "                print(\"Invalid input. Please enter a valid number.\")\n",
    "    \n",
    "    return customer_orders\n"
   ]
  },
  {
   "cell_type": "code",
   "execution_count": 7,
   "id": "4559a44a-1071-4c1d-8f9f-80a947900d4e",
   "metadata": {},
   "outputs": [
    {
     "name": "stdin",
     "output_type": "stream",
     "text": [
      "Enter the quantity of apples available:  50\n",
      "Enter the quantity of bananas available:  40\n",
      "Enter the quantity of oranges available:  100\n",
      "Enter the price of the product:  50\n",
      "Enter the product name to order (or type 'done' to finish):  apple\n",
      "Enter quantity for apple:  20\n",
      "Enter the product name to order (or type 'done' to finish):  done\n"
     ]
    },
    {
     "name": "stdout",
     "output_type": "stream",
     "text": [
      "\n",
      "📦 Final Order Summary:\n",
      "Apple: 20 units - Total Cost: $1000.00\n"
     ]
    }
   ],
   "source": [
    "# Define available products\n",
    "products_list = [\"apple\", \"banana\", \"orange\"]\n",
    "\n",
    "# Step 1: Initialize inventory\n",
    "inventory = initialize_inventory(products_list)\n",
    "\n",
    "# Step 2: Get total price (example usage)\n",
    "price_per_unit = calculate_total_price()\n",
    "\n",
    "# Step 3: Get customer orders\n",
    "orders = get_customer_orders(inventory)\n",
    "\n",
    "# Display results\n",
    "print(\"\\n📦 Final Order Summary:\")\n",
    "for product, quantity in orders.items():\n",
    "    total_cost = quantity * price_per_unit\n",
    "    print(f\"{product.capitalize()}: {quantity} units - Total Cost: ${total_cost:.2f}\")\n"
   ]
  },
  {
   "cell_type": "code",
   "execution_count": null,
   "id": "962f66c1-bbb8-4c55-8a7a-b6e3f666b400",
   "metadata": {},
   "outputs": [],
   "source": []
  }
 ],
 "metadata": {
  "kernelspec": {
   "display_name": "Python 3 (ipykernel)",
   "language": "python",
   "name": "python3"
  },
  "language_info": {
   "codemirror_mode": {
    "name": "ipython",
    "version": 3
   },
   "file_extension": ".py",
   "mimetype": "text/x-python",
   "name": "python",
   "nbconvert_exporter": "python",
   "pygments_lexer": "ipython3",
   "version": "3.12.7"
  }
 },
 "nbformat": 4,
 "nbformat_minor": 5
}
