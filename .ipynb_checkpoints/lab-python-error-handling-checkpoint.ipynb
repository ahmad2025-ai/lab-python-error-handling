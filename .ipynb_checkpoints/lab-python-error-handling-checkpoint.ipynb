{
 "cells": [
  {
   "cell_type": "markdown",
   "id": "25d7736c-ba17-4aff-b6bb-66eba20fbf4e",
   "metadata": {},
   "source": [
    "# Lab | Error Handling"
   ]
  },
  {
   "cell_type": "markdown",
   "id": "bc99b386-7508-47a0-bcdb-d969deaf6c8b",
   "metadata": {},
   "source": [
    "## Exercise: Error Handling for Managing Customer Orders\n",
    "\n",
    "The implementation of your code for managing customer orders assumes that the user will always enter a valid input. \n",
    "\n",
    "For example, we could modify the `initialize_inventory` function to include error handling.\n",
    "   - If the user enters an invalid quantity (e.g., a negative value or a non-numeric value), display an error message and ask them to re-enter the quantity for that product.\n",
    "   - Use a try-except block to handle the error and continue prompting the user until a valid quantity is entered.\n",
    "\n",
    "```python\n",
    "# Step 1: Define the function for initializing the inventory with error handling\n",
    "def initialize_inventory(products):\n",
    "    inventory = {}\n",
    "    for product in products:\n",
    "        valid_quantity = False\n",
    "        while not valid_quantity:\n",
    "            try:\n",
    "                quantity = int(input(f\"Enter the quantity of {product}s available: \"))\n",
    "                if quantity < 0:\n",
    "                    raise ValueError(\"Invalid quantity! Please enter a non-negative value.\")\n",
    "                valid_quantity = True\n",
    "            except ValueError as error:\n",
    "                print(f\"Error: {error}\")\n",
    "        inventory[product] = quantity\n",
    "    return inventory\n",
    "\n",
    "# Or, in another way:\n",
    "\n",
    "def initialize_inventory(products):\n",
    "    inventory = {}\n",
    "    for product in products:\n",
    "        valid_input = False\n",
    "        while not valid_input:\n",
    "            try:\n",
    "                quantity = int(input(f\"Enter the quantity of {product}s available: \"))\n",
    "                if quantity >= 0:\n",
    "                    inventory[product] = quantity\n",
    "                    valid_input = True\n",
    "                else:\n",
    "                    print(\"Quantity cannot be negative. Please enter a valid quantity.\")\n",
    "            except ValueError:\n",
    "                print(\"Invalid input. Please enter a valid quantity.\")\n",
    "    return inventory\n",
    "```\n",
    "\n",
    "Let's enhance your code by implementing error handling to handle invalid inputs.\n",
    "\n",
    "Follow the steps below to complete the exercise:\n",
    "\n",
    "2. Modify the `calculate_total_price` function to include error handling.\n",
    "   - If the user enters an invalid price (e.g., a negative value or a non-numeric value), display an error message and ask them to re-enter the price for that product.\n",
    "   - Use a try-except block to handle the error and continue prompting the user until a valid price is entered.\n",
    "\n",
    "3. Modify the `get_customer_orders` function to include error handling.\n",
    "   - If the user enters an invalid number of orders (e.g., a negative value or a non-numeric value), display an error message and ask them to re-enter the number of orders.\n",
    "   - If the user enters an invalid product name (e.g., a product name that is not in the inventory), or that doesn't have stock available, display an error message and ask them to re-enter the product name. *Hint: you will need to pass inventory as a parameter*\n",
    "   - Use a try-except block to handle the error and continue prompting the user until a valid product name is entered.\n",
    "\n",
    "4. Test your code by running the program and deliberately entering invalid quantities and product names. Make sure the error handling mechanism works as expected.\n"
   ]
  },
  {
   "cell_type": "code",
   "execution_count": 11,
   "id": "899a7a11-e4d7-46da-9636-dcf9494b3200",
   "metadata": {},
   "outputs": [],
   "source": [
    "# Inventory with stock levels\n",
    "inventory = {\n",
    "    \"t-shirt\": 50,\n",
    "    \"keychain\": 30,\n",
    "    \"book\": 20,\n",
    "    \"mag\": 15, \"hat\":30\n",
    "}\n"
   ]
  },
  {
   "cell_type": "code",
   "execution_count": 13,
   "id": "8bcd8fb6-76da-4cd9-b111-c8111db316c9",
   "metadata": {},
   "outputs": [],
   "source": [
    "# Function to calculate total price of an order\n",
    "def calculate_total_price():\n",
    "    while True:\n",
    "        try:\n",
    "            price = float(input(\"Enter the price of the product: \"))\n",
    "            if price < 0:\n",
    "                print(\"Price cannot be negative. Please enter a valid price.\")\n",
    "                continue\n",
    "            return price\n",
    "        except ValueError:\n",
    "            print(\"Invalid input. Please enter a numeric value for the price.\")"
   ]
  },
  {
   "cell_type": "code",
   "execution_count": 24,
   "id": "e8d10890-c5af-44d2-b242-5b1b862d16e5",
   "metadata": {},
   "outputs": [],
   "source": [
    "# Function to get customer orders\n",
    "def get_customer_orders(inventory):\n",
    "    while True:\n",
    "        try:\n",
    "            num_orders = int(input(\"Enter the number of orders: \"))\n",
    "            if num_orders < 0:\n",
    "                print(\"The number of orders cannot be negative. Please enter a valid number.\")\n",
    "                continue\n",
    "            break\n",
    "        except ValueError:\n",
    "            print(\"Invalid input. Please enter a numeric value for the number of orders.\")\n",
    "\n",
    "    total_price = 0\n",
    "    for i in range(num_orders):\n",
    "        while True:\n",
    "            product_name = input(f\"Enter the product name for order {i + 1}: \").lower()\n",
    "            if product_name not in inventory:\n",
    "                print(f\"Product '{product_name}' is not available in inventory. Please enter a valid product name.\")\n",
    "                continue\n",
    "            elif inventory[product_name] <= 0:\n",
    "                print(f\"Sorry, {product_name} is out of stock. Please choose a different product.\")\n",
    "                continue\n",
    "            else:\n",
    "                while True:\n",
    "                    try:\n",
    "                        quantity = int(input(f\"Enter the quantity for {product_name}: \"))\n",
    "                        if quantity < 0:\n",
    "                            print(\"Quantity cannot be negative. Please enter a valid quantity.\")\n",
    "                            continue\n",
    "                        elif quantity > inventory[product_name]:\n",
    "                            print(f\"Not enough stock for {product_name}. Only {inventory[product_name]} available.\")\n",
    "                            continue\n",
    "                        else:\n",
    "                            price = calculate_total_price()  # Get the price for this product\n",
    "                            total_price += price * quantity\n",
    "                            inventory[product_name] -= quantity  # Reduce stock based on the order\n",
    "                            break\n",
    "                    except ValueError:\n",
    "                        print(\"Invalid input. Please enter a valid quantity (numeric).\")\n",
    "                    except Exception as e:\n",
    "                        print(f\"An error occurred: {e}\")\n",
    "                break\n",
    "    return total_price\n",
    "   "
   ]
  },
  {
   "cell_type": "code",
   "execution_count": 26,
   "id": "aff30345-0fc0-4802-a547-830de0d94b78",
   "metadata": {},
   "outputs": [
    {
     "name": "stdout",
     "output_type": "stream",
     "text": [
      "Welcome to the store!\n"
     ]
    },
    {
     "name": "stdin",
     "output_type": "stream",
     "text": [
      "Enter the number of orders:  3\n",
      "Enter the product name for order 1:  book\n",
      "Enter the quantity for book:  20\n",
      "Enter the price of the product:  10\n",
      "Enter the product name for order 2:  keychain\n",
      "Enter the quantity for keychain:  30\n",
      "Enter the price of the product:  10\n",
      "Enter the product name for order 3:  t-shirt\n",
      "Enter the quantity for t-shirt:  50\n",
      "Enter the price of the product:  10\n"
     ]
    },
    {
     "name": "stdout",
     "output_type": "stream",
     "text": [
      "Total price for your orders: $1000.00\n"
     ]
    }
   ],
   "source": [
    "# Main function to run the program\n",
    "def main():\n",
    "    print(\"Welcome to the store!\")\n",
    "    total_price = get_customer_orders(inventory)\n",
    "    print(f\"Total price for your orders: ${total_price:.2f}\")\n",
    "\n",
    "# Run the program\n",
    "if __name__ == \"__main__\":\n",
    "    main()\n"
   ]
  }
 ],
 "metadata": {
  "kernelspec": {
   "display_name": "Python 3 (ipykernel)",
   "language": "python",
   "name": "python3"
  },
  "language_info": {
   "codemirror_mode": {
    "name": "ipython",
    "version": 3
   },
   "file_extension": ".py",
   "mimetype": "text/x-python",
   "name": "python",
   "nbconvert_exporter": "python",
   "pygments_lexer": "ipython3",
   "version": "3.12.7"
  }
 },
 "nbformat": 4,
 "nbformat_minor": 5
}
